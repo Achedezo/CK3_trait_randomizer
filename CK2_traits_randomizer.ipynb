{
 "cells": [
  {
   "cell_type": "code",
   "execution_count": 5,
   "metadata": {},
   "outputs": [],
   "source": [
    "import random"
   ]
  },
  {
   "cell_type": "code",
   "execution_count": 6,
   "metadata": {},
   "outputs": [],
   "source": [
    "#can be cusomized\n",
    "\n",
    "min_num_of_traits = 3 \n",
    "max_num_of_traits = 6\n",
    "chance_of_genetic = 10 # in percent\n",
    "max_num_of_genetic = 1\n",
    "min_age = 16\n",
    "max_age = 30\n",
    "min_stat = 2\n",
    "max_stat = 6"
   ]
  },
  {
   "cell_type": "code",
   "execution_count": 7,
   "metadata": {},
   "outputs": [
    {
     "name": "stdout",
     "output_type": "stream",
     "text": [
      "Age: 19\n",
      "\n",
      "Diplomacy: 3\n",
      "Martial: 2\n",
      "Stewardship: 4\n",
      "Intrigue: 4\n",
      "Learning: 3\n",
      "\n",
      "Grey Eminence\n",
      "Cruel\n",
      "Arbitrary\n",
      "Content\n",
      "Gluttonous\n",
      "Charitable\n",
      "Slothful\n"
     ]
    }
   ],
   "source": [
    "educations = [[\"Naive Appeaser\", \"Underhanded Rogue\", \"Charismatic Negotiator\", \"Grey Eminence\"],\n",
    "             [\"Misguided Warrior\", \"Tough Soldier\", \"Skilled Tactician\", \"Brilliant Strategist\"],\n",
    "             [\"Indulgent Wastrel\", \"Thrifty Clerk\", \"Fortune Builder\", \"Midas Touched\"],\n",
    "             [\"Amateurish Plotter\", \"Flamboyant Schemer\", \"Intricate Webweaver\", \"Elusive Shadow\"],\n",
    "            [\"Detached Priest\", \"Dutiful Cleric\", \"Scholarly Theologian\", \"Mastermind Theologian\"]]\n",
    "\n",
    "traits = [[\"Chaste\", \"Lustful\"],\n",
    "          [\"Temperate\", \"Gluttonous\"],\n",
    "          [\"Charitable\", \"Greedy\"],\n",
    "          [\"Diligent\", \"Slothful\"],\n",
    "          [\"Patient\", \"Wroth\"],\n",
    "          [\"Humble\", \"Proud\"],\n",
    "          [\"Ambitious\", \"Content\"],\n",
    "          [\"Just\", \"Arbitrary\"],\n",
    "          [\"Brave\", \"Craven\"],\n",
    "          [\"Kind\", \"Cruel\"],\n",
    "          [\"Honest\", \"Deceitful\"],\n",
    "          [\"Zealous\", \"Cynical\"],\n",
    "          [\"Gregarious\", \"Shy\"],\n",
    "          [\"Trusting\", \"Paranoid\"]]\n",
    "\n",
    "genetic = [[\"Attractive\", \"Ugly\"],\n",
    "           [\"Strong\", \"Weak\"],\n",
    "           [\"Genius\", \"Quick\", \"Slow\", \"Imbecile\"]]\n",
    "\n",
    "stats = [\"Diplomacy\", \"Martial\", \"Stewardship\", \"Intrigue\", \"Learning\"]\n",
    "\n",
    "\n",
    "num_of_traits = random.randint(min_num_of_traits, max_num_of_traits)\n",
    "\n",
    "#age\n",
    "print(\"Age: \" + str(random.randint(min_age, max_age)) + \"\\n\")\n",
    "\n",
    "#stats\n",
    "for stat in stats:\n",
    "    print(stat + \": \" + str(random.randint(min_stat, max_stat)))\n",
    "print()\n",
    "\n",
    "#education\n",
    "print(random.choice(random.choice(educations))) \n",
    "\n",
    "#traits\n",
    "for _ in range(num_of_traits):\n",
    "    duo = random.choice(traits)\n",
    "    traits.remove(duo)\n",
    "    print(random.choice(duo))\n",
    "    \n",
    "#genetic\n",
    "for _ in range(max_num_of_genetic):\n",
    "    if random.randint(1, 100) <= chance_of_genetic:\n",
    "        duo = random.choice(genetic)\n",
    "        genetic.remove(duo)\n",
    "        print(random.choice(duo))\n",
    "    "
   ]
  },
  {
   "cell_type": "code",
   "execution_count": null,
   "metadata": {},
   "outputs": [],
   "source": []
  }
 ],
 "metadata": {
  "kernelspec": {
   "display_name": "Python 3",
   "language": "python",
   "name": "python3"
  },
  "language_info": {
   "codemirror_mode": {
    "name": "ipython",
    "version": 3
   },
   "file_extension": ".py",
   "mimetype": "text/x-python",
   "name": "python",
   "nbconvert_exporter": "python",
   "pygments_lexer": "ipython3",
   "version": "3.7.4"
  }
 },
 "nbformat": 4,
 "nbformat_minor": 2
}
